{
 "cells": [
  {
   "cell_type": "code",
   "execution_count": 1,
   "id": "5da8004d-0e77-42d6-9789-1ad3995ae55a",
   "metadata": {},
   "outputs": [],
   "source": [
    "obs_dim = 10\n",
    "lat_dim = 4\n",
    "depth = 2\n",
    "groups = None\n",
    "ngroups = 2\n",
    "reg = None\n"
   ]
  },
  {
   "cell_type": "code",
   "execution_count": 2,
   "id": "370bca27-e74a-4f44-b86c-b3ca7906f6d7",
   "metadata": {},
   "outputs": [
    {
     "name": "stderr",
     "output_type": "stream",
     "text": [
      "2024-10-23 03:10:14.380067: I external/local_xla/xla/tsl/cuda/cudart_stub.cc:32] Could not find cuda drivers on your machine, GPU will not be used.\n",
      "2024-10-23 03:10:14.382712: I external/local_xla/xla/tsl/cuda/cudart_stub.cc:32] Could not find cuda drivers on your machine, GPU will not be used.\n",
      "2024-10-23 03:10:14.391711: E external/local_xla/xla/stream_executor/cuda/cuda_fft.cc:485] Unable to register cuFFT factory: Attempting to register factory for plugin cuFFT when one has already been registered\n",
      "2024-10-23 03:10:14.406833: E external/local_xla/xla/stream_executor/cuda/cuda_dnn.cc:8454] Unable to register cuDNN factory: Attempting to register factory for plugin cuDNN when one has already been registered\n",
      "2024-10-23 03:10:14.411454: E external/local_xla/xla/stream_executor/cuda/cuda_blas.cc:1452] Unable to register cuBLAS factory: Attempting to register factory for plugin cuBLAS when one has already been registered\n",
      "2024-10-23 03:10:14.421718: I tensorflow/core/platform/cpu_feature_guard.cc:210] This TensorFlow binary is optimized to use available CPU instructions in performance-critical operations.\n",
      "To enable the following instructions: AVX2 FMA, in other operations, rebuild TensorFlow with the appropriate compiler flags.\n",
      "2024-10-23 03:10:15.297274: W tensorflow/compiler/tf2tensorrt/utils/py_utils.cc:38] TF-TRT Warning: Could not find TensorRT\n"
     ]
    }
   ],
   "source": [
    "import tensorflow as tf\n",
    "import tf as envae\n"
   ]
  },
  {
   "cell_type": "code",
   "execution_count": 3,
   "id": "afae3297-7e05-42a1-b1db-643b46b4cc57",
   "metadata": {},
   "outputs": [],
   "source": [
    "vae = envae.EnVAE(obs_dim, lat_dim, depth=depth, groups=groups, ngroups=ngroups, reg=reg)\n"
   ]
  },
  {
   "cell_type": "code",
   "execution_count": 4,
   "id": "7146e7a2-59d1-47a1-ae18-003214536c71",
   "metadata": {},
   "outputs": [
    {
     "data": {
      "text/plain": [
       "<tf.Tensor: shape=(6, 10), dtype=float32, numpy=\n",
       "array([[5.18002391e-01, 5.56159377e-01, 5.89952230e-01, 6.81097627e-01,\n",
       "        1.83026433e-01, 7.41274595e-01, 1.10490799e-01, 4.57819939e-01,\n",
       "        1.79038405e-01, 2.01516986e-01],\n",
       "       [5.65463305e-01, 9.61239696e-01, 7.81677842e-01, 6.30607128e-01,\n",
       "        9.07888055e-01, 6.27601624e-01, 8.76237035e-01, 4.88314986e-01,\n",
       "        5.22412062e-02, 7.58236885e-01],\n",
       "       [8.44390512e-01, 2.98495531e-01, 8.59706283e-01, 1.32871151e-01,\n",
       "        2.62367725e-01, 4.04365063e-01, 4.10044193e-03, 4.22021389e-01,\n",
       "        2.51849890e-01, 7.28822947e-01],\n",
       "       [2.59844303e-01, 6.47765398e-02, 5.28742790e-01, 7.68471599e-01,\n",
       "        1.24877095e-01, 5.33072710e-01, 2.39372253e-04, 6.27292275e-01,\n",
       "        1.44092441e-01, 2.10564733e-01],\n",
       "       [3.27432036e-01, 2.09649801e-02, 4.59413052e-01, 3.37758064e-02,\n",
       "        4.57769632e-01, 1.17800117e-01, 8.07035565e-01, 9.72942114e-02,\n",
       "        5.94029784e-01, 1.95814252e-01],\n",
       "       [7.89202452e-01, 7.56364942e-01, 4.05499220e-01, 4.26941752e-01,\n",
       "        9.24327254e-01, 8.73557329e-01, 5.67498446e-01, 4.37927127e-01,\n",
       "        7.46827722e-01, 3.48857999e-01]], dtype=float32)>"
      ]
     },
     "execution_count": 4,
     "metadata": {},
     "output_type": "execute_result"
    }
   ],
   "source": [
    "inp = tf.random.uniform((6, obs_dim))\n",
    "inp"
   ]
  },
  {
   "cell_type": "code",
   "execution_count": 5,
   "id": "cd56f952-5a54-4aca-84fe-4223226918f6",
   "metadata": {},
   "outputs": [
    {
     "data": {
      "text/plain": [
       "<tf.Tensor: shape=(6, 5, 2), dtype=int32, numpy=\n",
       "array([[[0, 0],\n",
       "        [0, 2],\n",
       "        [0, 4],\n",
       "        [0, 6],\n",
       "        [0, 8]],\n",
       "\n",
       "       [[1, 0],\n",
       "        [1, 2],\n",
       "        [1, 4],\n",
       "        [1, 6],\n",
       "        [1, 8]],\n",
       "\n",
       "       [[2, 0],\n",
       "        [2, 2],\n",
       "        [2, 4],\n",
       "        [2, 6],\n",
       "        [2, 8]],\n",
       "\n",
       "       [[3, 0],\n",
       "        [3, 2],\n",
       "        [3, 4],\n",
       "        [3, 6],\n",
       "        [3, 8]],\n",
       "\n",
       "       [[4, 0],\n",
       "        [4, 2],\n",
       "        [4, 4],\n",
       "        [4, 6],\n",
       "        [4, 8]],\n",
       "\n",
       "       [[5, 0],\n",
       "        [5, 2],\n",
       "        [5, 4],\n",
       "        [5, 6],\n",
       "        [5, 8]]], dtype=int32)>"
      ]
     },
     "execution_count": 5,
     "metadata": {},
     "output_type": "execute_result"
    }
   ],
   "source": [
    "tf.stack([\n",
    "        tf.repeat(tf.range(inp.shape[0])[..., tf.newaxis], vae._groups[0].shape[0], axis=1),\n",
    "        tf.repeat(vae._groups[0][tf.newaxis, ...], inp.shape[0], axis=0)\n",
    "    ], axis=2)"
   ]
  },
  {
   "cell_type": "code",
   "execution_count": 6,
   "id": "c5cdc25c-ef8b-4389-8c8b-c7c5cab734dd",
   "metadata": {},
   "outputs": [
    {
     "data": {
      "text/plain": [
       "<tf.Tensor: shape=(6, 5), dtype=float32, numpy=\n",
       "array([[5.18002391e-01, 5.89952230e-01, 1.83026433e-01, 1.10490799e-01,\n",
       "        1.79038405e-01],\n",
       "       [5.65463305e-01, 7.81677842e-01, 9.07888055e-01, 8.76237035e-01,\n",
       "        5.22412062e-02],\n",
       "       [8.44390512e-01, 8.59706283e-01, 2.62367725e-01, 4.10044193e-03,\n",
       "        2.51849890e-01],\n",
       "       [2.59844303e-01, 5.28742790e-01, 1.24877095e-01, 2.39372253e-04,\n",
       "        1.44092441e-01],\n",
       "       [3.27432036e-01, 4.59413052e-01, 4.57769632e-01, 8.07035565e-01,\n",
       "        5.94029784e-01],\n",
       "       [7.89202452e-01, 4.05499220e-01, 9.24327254e-01, 5.67498446e-01,\n",
       "        7.46827722e-01]], dtype=float32)>"
      ]
     },
     "execution_count": 6,
     "metadata": {},
     "output_type": "execute_result"
    }
   ],
   "source": [
    "tf.gather_nd(\n",
    "    inp,\n",
    "    tf.stack([\n",
    "        # tf.repeat(tf.range(inp.shape[0])[..., tf.newaxis], vae._groups[0].shape[0], axis=1),\n",
    "        tf.broadcast_to(tf.range(inp.shape[0])[..., tf.newaxis], (inp.shape[0], vae._groups[0].shape[0])),\n",
    "        tf.repeat(vae._groups[0][tf.newaxis, ...], inp.shape[0], axis=0)\n",
    "    ], axis=2),\n",
    ")"
   ]
  },
  {
   "cell_type": "code",
   "execution_count": 7,
   "id": "e8f07f36-8b69-44dc-b162-eda59ee63a2e",
   "metadata": {},
   "outputs": [
    {
     "data": {
      "text/plain": [
       "(<tf.Tensor: shape=(6, 4, 2), dtype=float32, numpy=\n",
       " array([[[-0.18475778,  0.11742005],\n",
       "         [ 0.3510018 ,  0.24868369],\n",
       "         [ 0.4104907 ,  0.33070672],\n",
       "         [-0.05704182, -0.04232877]],\n",
       " \n",
       "        [[-0.73895097, -0.2530008 ],\n",
       "         [ 0.6958515 , -0.39121246],\n",
       "         [ 0.6746117 , -0.1966413 ],\n",
       "         [ 0.00875787,  0.54525656]],\n",
       " \n",
       "        [[-0.14277005,  0.20851043],\n",
       "         [ 0.4841404 ,  0.41507286],\n",
       "         [ 0.6092447 ,  0.55698854],\n",
       "         [-0.0607367 , -0.08729643]],\n",
       " \n",
       "        [[-0.07344975,  0.08357716],\n",
       "         [ 0.18139414,  0.18659696],\n",
       "         [ 0.17369232,  0.26778802],\n",
       "         [-0.01069911, -0.00406505]],\n",
       " \n",
       "        [[-0.2817197 , -0.26470602],\n",
       "         [ 0.42656535, -0.26176387],\n",
       "         [ 0.47887206, -0.2727465 ],\n",
       "         [ 0.04881392,  0.3944119 ]],\n",
       " \n",
       "        [[-0.2485918 , -0.2334058 ],\n",
       "         [ 0.29194582, -0.32006067],\n",
       "         [ 0.36731303, -0.24773514],\n",
       "         [ 0.09356235,  0.41889793]]], dtype=float32)>,\n",
       " <tf.Tensor: shape=(6, 4, 2), dtype=float32, numpy=\n",
       " array([[[ 0.06619748,  0.0212175 ],\n",
       "         [-0.24220416, -0.05023983],\n",
       "         [-0.0435994 , -0.20247592],\n",
       "         [-0.01347967, -0.16589713]],\n",
       " \n",
       "        [[ 0.4316697 ,  0.02300316],\n",
       "         [-0.48715377,  0.24077372],\n",
       "         [-0.23630741, -0.46549416],\n",
       "         [ 0.00103076,  0.13191286]],\n",
       " \n",
       "        [[ 0.02920969,  0.0375692 ],\n",
       "         [-0.36780107, -0.09225609],\n",
       "         [-0.06316529, -0.34089398],\n",
       "         [ 0.03728539, -0.28698254]],\n",
       " \n",
       "        [[-0.01007197,  0.03890344],\n",
       "         [-0.21008104, -0.01758981],\n",
       "         [-0.08117831, -0.19295466],\n",
       "         [ 0.04307009, -0.10926056]],\n",
       " \n",
       "        [[ 0.34775114, -0.18065621],\n",
       "         [-0.135282  ,  0.10976879],\n",
       "         [-0.23046291, -0.10984334],\n",
       "         [ 0.08515436,  0.03316505]],\n",
       " \n",
       "        [[ 0.45881093, -0.21208712],\n",
       "         [-0.05991459,  0.08174902],\n",
       "         [-0.22122242, -0.2744006 ],\n",
       "         [ 0.19972545, -0.07721753]]], dtype=float32)>)"
      ]
     },
     "execution_count": 7,
     "metadata": {},
     "output_type": "execute_result"
    }
   ],
   "source": [
    "enc = vae.encode(inp)\n",
    "enc"
   ]
  },
  {
   "cell_type": "code",
   "execution_count": 8,
   "id": "ef87da6e-8be2-4471-8bc9-ea249d6658c1",
   "metadata": {},
   "outputs": [],
   "source": [
    "# experts = [0, 1]\n",
    "\n",
    "\n",
    "# req_means = tf.gather_nd(\n",
    "#     means,\n",
    "#     tf.constant(\n",
    "#         [\n",
    "#             [[[b, h, g] for g in experts] for h in range(means.shape[1])]\n",
    "#             for b in range(means.shape[0])\n",
    "#         ],\n",
    "#         dtype=tf.int32,\n",
    "#     ),\n",
    "# )\n"
   ]
  },
  {
   "cell_type": "code",
   "execution_count": 9,
   "id": "29d2bb51-ef6e-40b4-af4f-8259da3bb909",
   "metadata": {},
   "outputs": [
    {
     "data": {
      "text/plain": [
       "<tf.Tensor: shape=(6, 4), dtype=float32, numpy=\n",
       "array([[ 0.15750298, -0.23241344, -0.5506697 , -0.34435776],\n",
       "       [-0.87570065, -0.27371392, -0.7968709 , -0.56052434],\n",
       "       [-0.00380526,  1.0624281 ,  0.31215838, -0.28882527],\n",
       "       [-1.0352316 , -0.08443291, -0.3910225 ,  0.974382  ],\n",
       "       [-1.1221995 ,  1.0806416 ,  0.20950891,  1.2247734 ],\n",
       "       [-0.5357095 , -0.1942316 , -0.6696874 ,  1.0954849 ]],\n",
       "      dtype=float32)>"
      ]
     },
     "execution_count": 9,
     "metadata": {},
     "output_type": "execute_result"
    }
   ],
   "source": [
    "samp = vae.reparameterize(*enc)\n",
    "samp"
   ]
  },
  {
   "cell_type": "code",
   "execution_count": 10,
   "id": "eec30ce0-c56d-467a-8167-b4d2e81a9c8e",
   "metadata": {},
   "outputs": [
    {
     "data": {
      "text/plain": [
       "<tf.Tensor: shape=(6, 10), dtype=float32, numpy=\n",
       "array([[5.18002391e-01, 5.56159377e-01, 5.89952230e-01, 6.81097627e-01,\n",
       "        1.83026433e-01, 7.41274595e-01, 1.10490799e-01, 4.57819939e-01,\n",
       "        1.79038405e-01, 2.01516986e-01],\n",
       "       [5.65463305e-01, 9.61239696e-01, 7.81677842e-01, 6.30607128e-01,\n",
       "        9.07888055e-01, 6.27601624e-01, 8.76237035e-01, 4.88314986e-01,\n",
       "        5.22412062e-02, 7.58236885e-01],\n",
       "       [8.44390512e-01, 2.98495531e-01, 8.59706283e-01, 1.32871151e-01,\n",
       "        2.62367725e-01, 4.04365063e-01, 4.10044193e-03, 4.22021389e-01,\n",
       "        2.51849890e-01, 7.28822947e-01],\n",
       "       [2.59844303e-01, 6.47765398e-02, 5.28742790e-01, 7.68471599e-01,\n",
       "        1.24877095e-01, 5.33072710e-01, 2.39372253e-04, 6.27292275e-01,\n",
       "        1.44092441e-01, 2.10564733e-01],\n",
       "       [3.27432036e-01, 2.09649801e-02, 4.59413052e-01, 3.37758064e-02,\n",
       "        4.57769632e-01, 1.17800117e-01, 8.07035565e-01, 9.72942114e-02,\n",
       "        5.94029784e-01, 1.95814252e-01],\n",
       "       [7.89202452e-01, 7.56364942e-01, 4.05499220e-01, 4.26941752e-01,\n",
       "        9.24327254e-01, 8.73557329e-01, 5.67498446e-01, 4.37927127e-01,\n",
       "        7.46827722e-01, 3.48857999e-01]], dtype=float32)>"
      ]
     },
     "execution_count": 10,
     "metadata": {},
     "output_type": "execute_result"
    }
   ],
   "source": [
    "inp"
   ]
  },
  {
   "cell_type": "code",
   "execution_count": 11,
   "id": "effe1f4f-f82b-44f7-843c-ae4dd9c3dcec",
   "metadata": {},
   "outputs": [
    {
     "data": {
      "text/plain": [
       "<tf.Tensor: shape=(3, 10), dtype=float32, numpy=\n",
       "array([[5.18002391e-01, 5.56159377e-01, 5.89952230e-01, 6.81097627e-01,\n",
       "        1.83026433e-01, 7.41274595e-01, 1.10490799e-01, 4.57819939e-01,\n",
       "        1.79038405e-01, 2.01516986e-01],\n",
       "       [8.44390512e-01, 2.98495531e-01, 8.59706283e-01, 1.32871151e-01,\n",
       "        2.62367725e-01, 4.04365063e-01, 4.10044193e-03, 4.22021389e-01,\n",
       "        2.51849890e-01, 7.28822947e-01],\n",
       "       [2.59844303e-01, 6.47765398e-02, 5.28742790e-01, 7.68471599e-01,\n",
       "        1.24877095e-01, 5.33072710e-01, 2.39372253e-04, 6.27292275e-01,\n",
       "        1.44092441e-01, 2.10564733e-01]], dtype=float32)>"
      ]
     },
     "execution_count": 11,
     "metadata": {},
     "output_type": "execute_result"
    }
   ],
   "source": [
    "tf.gather_nd(inp, [[0], [2], [3]])"
   ]
  },
  {
   "cell_type": "code",
   "execution_count": null,
   "id": "e5d0bf3c-8aa5-4106-b978-5da29ac3c296",
   "metadata": {},
   "outputs": [],
   "source": []
  }
 ],
 "metadata": {
  "kernelspec": {
   "display_name": "Python 3 (ipykernel)",
   "language": "python",
   "name": "python3"
  },
  "language_info": {
   "codemirror_mode": {
    "name": "ipython",
    "version": 3
   },
   "file_extension": ".py",
   "mimetype": "text/x-python",
   "name": "python",
   "nbconvert_exporter": "python",
   "pygments_lexer": "ipython3",
   "version": "3.12.6"
  }
 },
 "nbformat": 4,
 "nbformat_minor": 5
}
